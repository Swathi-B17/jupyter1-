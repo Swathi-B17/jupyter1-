{
 "cells": [
  {
   "cell_type": "markdown",
   "metadata": {},
   "source": [
    "### Control Statements"
   ]
  },
  {
   "cell_type": "code",
   "execution_count": null,
   "metadata": {},
   "outputs": [],
   "source": [
    "Conditional statements or selection statements\n",
    "  .if-else\n",
    "Iterational statements or loop statements\n",
    "   .while\n",
    "   .for\n"
   ]
  },
  {
   "cell_type": "code",
   "execution_count": 1,
   "metadata": {},
   "outputs": [
    {
     "name": "stdout",
     "output_type": "stream",
     "text": [
      "2019\n",
      "Not leap year\n"
     ]
    }
   ],
   "source": [
    "#check the input is leap year or not\n",
    "year=int(input(''))\n",
    "if year % 400==0 or (year %100 !=0 and year %4==0):\n",
    "    print('Leap year')\n",
    "else:\n",
    "    print('Not leap year')"
   ]
  },
  {
   "cell_type": "markdown",
   "metadata": {},
   "source": [
    "### While loop"
   ]
  },
  {
   "cell_type": "code",
   "execution_count": 2,
   "metadata": {},
   "outputs": [
    {
     "name": "stdout",
     "output_type": "stream",
     "text": [
      "Enter a number:10\n",
      "12345678910"
     ]
    }
   ],
   "source": [
    "#Print numbers from 1 to N\n",
    "#Input:10\n",
    "#Output:1 2 3 4 5.......10\n",
    "n=int(input('Enter a number:'))\n",
    "i=1\n",
    "while i<=n:\n",
    "    print(i,end=\"\")\n",
    "    i=i+1\n"
   ]
  },
  {
   "cell_type": "code",
   "execution_count": 3,
   "metadata": {},
   "outputs": [
    {
     "name": "stdout",
     "output_type": "stream",
     "text": [
      "10\n",
      "30\n"
     ]
    }
   ],
   "source": [
    "# Read a numbers as input\n",
    "#Output as only even numbers from 1 to n\n",
    "#input:10\n",
    "#output:30\n",
    "n= int(input(''))\n",
    "i=1\n",
    "s=0\n",
    "while i <=n:\n",
    "    if i%2 ==0:\n",
    "        s=s+i\n",
    "    i=i+1\n",
    "print(s)"
   ]
  },
  {
   "cell_type": "code",
   "execution_count": 6,
   "metadata": {},
   "outputs": [
    {
     "name": "stdout",
     "output_type": "stream",
     "text": [
      "123\n",
      "3 2 1 "
     ]
    }
   ],
   "source": [
    "# Read a number as input\n",
    "#output has be digits of the number\n",
    "#i/p:123\n",
    "n=int(input(''))\n",
    "while n!=0:\n",
    "    print(n%10,end=' ')\n",
    "    n = n//10  #returns output as only int value"
   ]
  },
  {
   "cell_type": "markdown",
   "metadata": {},
   "source": [
    "### Functional programming\n",
    "-simple\n",
    "-Easy understand\n",
    "-Better Reuseability\n",
    "-Lengthy program will be divided into sub programs"
   ]
  },
  {
   "cell_type": "code",
   "execution_count": null,
   "metadata": {},
   "outputs": [],
   "source": [
    "def nameoftheFunction(<parameters>)\n",
    "    Statements\n",
    "    return"
   ]
  },
  {
   "cell_type": "code",
   "execution_count": 26,
   "metadata": {},
   "outputs": [
    {
     "data": {
      "text/plain": [
       "6"
      ]
     },
     "execution_count": 26,
     "metadata": {},
     "output_type": "execute_result"
    }
   ],
   "source": [
    "#Read a number\n",
    "#print the even digit sum from the number\n",
    "#i/p:1234\n",
    "#o/p:6\n",
    "\n",
    "def evenDigitSum(n):\n",
    "    s = 0 \n",
    "    while n!= 0:\n",
    "        r =n%10\n",
    "        if r%2 ==0:\n",
    "            s=s+r\n",
    "        n=n//10\n",
    "    return s\n",
    "evenDigitSum(1234)\n",
    "        \n",
    "    "
   ]
  },
  {
   "cell_type": "code",
   "execution_count": 22,
   "metadata": {},
   "outputs": [
    {
     "data": {
      "text/plain": [
       "<function __main__.largeDigit(n)>"
      ]
     },
     "execution_count": 22,
     "metadata": {},
     "output_type": "execute_result"
    }
   ],
   "source": [
    "def largeDigit(n):\n",
    "    return largeDigit\n",
    "largeDigit(12345)"
   ]
  },
  {
   "cell_type": "code",
   "execution_count": 27,
   "metadata": {},
   "outputs": [
    {
     "data": {
      "text/plain": [
       "5"
      ]
     },
     "execution_count": 27,
     "metadata": {},
     "output_type": "execute_result"
    }
   ],
   "source": [
    "def largeDigit(n):\n",
    "    large = 0\n",
    "    while n!= 0:\n",
    "        r=n%10\n",
    "        if large < r:\n",
    "            large = r\n",
    "        n = n//10\n",
    "    return large\n",
    "largeDigit(12345)"
   ]
  },
  {
   "cell_type": "code",
   "execution_count": 30,
   "metadata": {},
   "outputs": [
    {
     "ename": "SyntaxError",
     "evalue": "invalid syntax (<ipython-input-30-3a3a80ce59e8>, line 4)",
     "output_type": "error",
     "traceback": [
      "\u001b[1;36m  File \u001b[1;32m\"<ipython-input-30-3a3a80ce59e8>\"\u001b[1;36m, line \u001b[1;32m4\u001b[0m\n\u001b[1;33m    for i in range(len(n):\u001b[0m\n\u001b[1;37m                         ^\u001b[0m\n\u001b[1;31mSyntaxError\u001b[0m\u001b[1;31m:\u001b[0m invalid syntax\n"
     ]
    }
   ],
   "source": [
    "#Read a number as input\n",
    "n='12345'\n",
    "s=0\n",
    "for i in range(len(n):\n",
    "    print(i)"
   ]
  },
  {
   "cell_type": "code",
   "execution_count": 37,
   "metadata": {},
   "outputs": [
    {
     "name": "stdout",
     "output_type": "stream",
     "text": [
      "Yes\n",
      "No\n"
     ]
    }
   ],
   "source": [
    "def factorial(n):\n",
    "    fact=1\n",
    "    i=1\n",
    "    while i<=n:\n",
    "        fact=fact*i\n",
    "        i=i+1\n",
    "    return fact\n",
    "def digitFactSum(n):\n",
    "    s=0\n",
    "    buffer=n\n",
    "    while n!=0:\n",
    "        r = n%10\n",
    "        s +=factorial(r)\n",
    "        n=n//10\n",
    "    if buffer==s:\n",
    "        return\"Yes\"\n",
    "    else:\n",
    "        return\"No\"\n",
    "    return\n",
    "        \n",
    "print(digitFactSum(145))\n",
    "print(digitFactSum(123))\n",
    "        "
   ]
  },
  {
   "cell_type": "code",
   "execution_count": 42,
   "metadata": {},
   "outputs": [
    {
     "name": "stdout",
     "output_type": "stream",
     "text": [
      "Palindrome\n",
      "Not a Palindrome\n"
     ]
    }
   ],
   "source": [
    "# Read a number as input\n",
    "# output as palindrome or not a palindrome\n",
    "\n",
    "def isPalindrome(n):\n",
    "    rev=0\n",
    "    buffer = n\n",
    "    while n!=0:\n",
    "        rev = rev*10 +(n%10)\n",
    "        n= n//10\n",
    "    if buffer == rev:\n",
    "        return\"Palindrome\"\n",
    "    return \"Not a Palindrome\"\n",
    "print(isPalindrome(121))\n",
    "print(isPalindrome(123))"
   ]
  },
  {
   "cell_type": "code",
   "execution_count": 44,
   "metadata": {},
   "outputs": [
    {
     "name": "stdout",
     "output_type": "stream",
     "text": [
      "11 12 13 14 15 16 17 18 19 20 21 22 23 24 25 "
     ]
    }
   ],
   "source": [
    "#Function to print no.s b/w 2 limits\n",
    "#i/p:11 25\n",
    "\n",
    "def printSeries(lb,ub):\n",
    "    for x in range(lb,ub+1):\n",
    "        print(x,end=' ')\n",
    "    return\n",
    "printSeries(11,25)"
   ]
  },
  {
   "cell_type": "code",
   "execution_count": 46,
   "metadata": {},
   "outputs": [
    {
     "name": "stdout",
     "output_type": "stream",
     "text": [
      "500 503 506 509 512 515 518 "
     ]
    }
   ],
   "source": [
    "#function to print the alternate numbers\n",
    "#[500,520]--500 502 504 506....520\n",
    "def alternateNumbers(lb,ub):\n",
    "    for x in range(lb,ub+1,3):\n",
    "        print(x,end=' ')\n",
    "    return\n",
    "alternateNumbers(500,520)"
   ]
  },
  {
   "cell_type": "code",
   "execution_count": null,
   "metadata": {},
   "outputs": [],
   "source": []
  }
 ],
 "metadata": {
  "kernelspec": {
   "display_name": "Python 3",
   "language": "python",
   "name": "python3"
  },
  "language_info": {
   "codemirror_mode": {
    "name": "ipython",
    "version": 3
   },
   "file_extension": ".py",
   "mimetype": "text/x-python",
   "name": "python",
   "nbconvert_exporter": "python",
   "pygments_lexer": "ipython3",
   "version": "3.7.3"
  }
 },
 "nbformat": 4,
 "nbformat_minor": 2
}
