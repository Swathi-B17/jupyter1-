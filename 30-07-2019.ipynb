{
 "cells": [
  {
   "cell_type": "markdown",
   "metadata": {},
   "source": [
    "### Oops\n"
   ]
  },
  {
   "cell_type": "code",
   "execution_count": 1,
   "metadata": {},
   "outputs": [
    {
     "name": "stdout",
     "output_type": "stream",
     "text": [
      "hello,good morning\n"
     ]
    }
   ],
   "source": [
    "class Abc:\n",
    "    def printinfo(self):\n",
    "        print(\"hello,good morning\")\n",
    "        \n",
    "obj=Abc()# object creation\n",
    "obj.printinfo()#method calling"
   ]
  },
  {
   "cell_type": "code",
   "execution_count": 8,
   "metadata": {},
   "outputs": [
    {
     "name": "stdout",
     "output_type": "stream",
     "text": [
      "78.53981633974483\n",
      "31.41592653589793\n"
     ]
    }
   ],
   "source": [
    "import math\n",
    "class circle:\n",
    "    def area(self,r):\n",
    "        return math.pi*r*r\n",
    "    def perimeter(self,r):\n",
    "        return 2*math.pi*r\n",
    "    \n",
    "obj=circle()\n",
    "print(obj.area(5))\n",
    "print(obj.perimeter(5))\n",
    "        "
   ]
  },
  {
   "cell_type": "code",
   "execution_count": 9,
   "metadata": {},
   "outputs": [
    {
     "name": "stdout",
     "output_type": "stream",
     "text": [
      "28.274333882308138\n",
      "50.26548245743669\n"
     ]
    }
   ],
   "source": [
    "import math\n",
    "class circle:\n",
    "    def __init__(self,r):\n",
    "        self.r=r\n",
    "    def area(self):\n",
    "        print(math.pi*self.r*self.r)\n",
    "c1=circle(3)\n",
    "c1.area()\n",
    "c2=circle(4)\n",
    "c2.area()\n",
    "\n",
    "        "
   ]
  },
  {
   "cell_type": "code",
   "execution_count": 19,
   "metadata": {},
   "outputs": [
    {
     "name": "stdout",
     "output_type": "stream",
     "text": [
      "camera is good\n"
     ]
    }
   ],
   "source": [
    "class Samsung:\n",
    "    def adv(self):\n",
    "        print(\"camera is good\")\n",
    "class Nokia:\n",
    "    def adv1(self):\n",
    "        print(\"battery backup is good\")\n",
    "S=Samsung()\n",
    "S.adv()\n",
    "\n"
   ]
  },
  {
   "cell_type": "code",
   "execution_count": 17,
   "metadata": {},
   "outputs": [
    {
     "name": "stdout",
     "output_type": "stream",
     "text": [
      "camera is good\n"
     ]
    }
   ],
   "source": [
    "class Samsung:\n",
    "    def adv(self):\n",
    "        print(\"camera is good\")\n",
    "class Nokia(Samsung):\n",
    "    def adv1(self):\n",
    "        print(\"battery backup is good\")\n",
    "S=Nokia()\n",
    "S.adv()"
   ]
  },
  {
   "cell_type": "markdown",
   "metadata": {},
   "source": [
    "### Inheritances\n",
    "single\n",
    "multilevel\n",
    "multiple\n",
    "Hierarchial\n",
    "Hybrid"
   ]
  },
  {
   "cell_type": "code",
   "execution_count": 27,
   "metadata": {},
   "outputs": [
    {
     "name": "stdout",
     "output_type": "stream",
     "text": [
      "camera is good\n"
     ]
    }
   ],
   "source": [
    "#Multilevel inheritance\n",
    "class Samsung:\n",
    "    def adv(self):\n",
    "        print(\"camera is good\")\n",
    "class Nokia(Samsung):\n",
    "    def adv1(self):\n",
    "        print(\"battery backup is good\")\n",
    "class Apple(Nokia):\n",
    "    def adv2(self):\n",
    "        print(\"good security\")\n",
    "S=Apple()\n",
    "S.adv()"
   ]
  },
  {
   "cell_type": "code",
   "execution_count": 31,
   "metadata": {},
   "outputs": [
    {
     "name": "stdout",
     "output_type": "stream",
     "text": [
      "battery backup is good\n"
     ]
    }
   ],
   "source": [
    "#Multiple inheritance\n",
    "class Samsung:\n",
    "    def adv(self):\n",
    "        print(\"camera is good\")\n",
    "class Nokia():\n",
    "    def adv1(self):\n",
    "        print(\"battery backup is good\")\n",
    "class Apple(Nokia,Samsung):\n",
    "    def adv2(self):\n",
    "        print(\"good security\")\n",
    "        \n",
    "obj=Apple()\n",
    "obj.adv1()\n"
   ]
  },
  {
   "cell_type": "code",
   "execution_count": 32,
   "metadata": {},
   "outputs": [
    {
     "name": "stdout",
     "output_type": "stream",
     "text": [
      "camera is good\n"
     ]
    }
   ],
   "source": [
    "#Hierarchial\n",
    "class Samsung:\n",
    "    def adv(self):\n",
    "        print(\"camera is good\")\n",
    "class Nokia(Samsung):\n",
    "    def adv1(self):\n",
    "        print(\"battery backup is good\")\n",
    "class Apple(Samsung):\n",
    "    def adv2(self):\n",
    "        print(\"good security\")\n",
    "        \n",
    "obj=Apple()\n",
    "obj.adv()"
   ]
  },
  {
   "cell_type": "code",
   "execution_count": 34,
   "metadata": {},
   "outputs": [
    {
     "name": "stdout",
     "output_type": "stream",
     "text": [
      "good security\n"
     ]
    }
   ],
   "source": [
    "#Hybrid inheritance\n",
    "class Samsung:\n",
    "    def adv(self):\n",
    "        print(\"camera is good\")\n",
    "class Nokia(Samsung):\n",
    "    def adv(self):\n",
    "        print(\"battery backup is good\")\n",
    "class Apple(Nokia,Samsung):\n",
    "    def adv(self):\n",
    "        print(\"good security\")\n",
    "        \n",
    "obj=Apple()\n",
    "obj.adv()"
   ]
  },
  {
   "cell_type": "markdown",
   "metadata": {},
   "source": [
    "### Polymorphism"
   ]
  },
  {
   "cell_type": "code",
   "execution_count": 39,
   "metadata": {},
   "outputs": [
    {
     "name": "stdout",
     "output_type": "stream",
     "text": [
      "hello swathi\n"
     ]
    }
   ],
   "source": [
    "#Function overload but it doesnt exists in python\n",
    "def printinfo():\n",
    "    print(\"helloo....\")\n",
    "def printinfo(name):\n",
    "    print(\"hello\",name)\n",
    "#printinfo()\n",
    "printinfo(\"swathi\")"
   ]
  },
  {
   "cell_type": "code",
   "execution_count": 40,
   "metadata": {},
   "outputs": [
    {
     "name": "stdout",
     "output_type": "stream",
     "text": [
      "haii\n"
     ]
    }
   ],
   "source": [
    "#Method overriding\n",
    "class A:\n",
    "    def disp(self):\n",
    "        pass\n",
    "class B(A):\n",
    "    def disp(self):\n",
    "        print(\"haii\")\n",
    "b=B()\n",
    "b.disp()"
   ]
  },
  {
   "cell_type": "markdown",
   "metadata": {},
   "source": [
    "variable creation in class outside function\n",
    "how to create private members\n",
    "how to overload operators # using all magical methods"
   ]
  },
  {
   "cell_type": "code",
   "execution_count": 42,
   "metadata": {},
   "outputs": [
    {
     "name": "stdout",
     "output_type": "stream",
     "text": [
      "eee\n",
      "eee\n",
      "101\n",
      "eee\n"
     ]
    }
   ],
   "source": [
    "class EEStudent:  \n",
    "    stream = 'eee'        # Class Variable     \n",
    "    def __init__(self, roll):  # The init method or constructor  \n",
    "        self.roll = roll    # Instance Variable      \n",
    "a = EEStudent(101) \n",
    "b = EEStudent(102) # Objects of EEStudent class\n",
    "    \n",
    "print(a.stream)  # prints \"eee\" \n",
    "print(b.stream)  # prints \"eee\" \n",
    "print(a.roll)    # prints 101 \n",
    "print(EEStudent.stream) # prints \"eee\" # Class variables can be accessed using class \n",
    "# name also    "
   ]
  },
  {
   "cell_type": "code",
   "execution_count": 43,
   "metadata": {},
   "outputs": [
    {
     "name": "stdout",
     "output_type": "stream",
     "text": [
      "10\n"
     ]
    }
   ],
   "source": [
    "\n",
    "# A Python program to demonstrate that hidden \n",
    "# members can be accessed outside a class \n",
    "class MyClass: \n",
    "  \n",
    "    # Hidden member of MyClass \n",
    "    __hiddenVariable = 10\n",
    "  \n",
    "# Driver code \n",
    "myObject = MyClass()      \n",
    "print(myObject._MyClass__hiddenVariable) "
   ]
  },
  {
   "cell_type": "code",
   "execution_count": null,
   "metadata": {},
   "outputs": [],
   "source": []
  }
 ],
 "metadata": {
  "kernelspec": {
   "display_name": "Python 3",
   "language": "python",
   "name": "python3"
  },
  "language_info": {
   "codemirror_mode": {
    "name": "ipython",
    "version": 3
   },
   "file_extension": ".py",
   "mimetype": "text/x-python",
   "name": "python",
   "nbconvert_exporter": "python",
   "pygments_lexer": "ipython3",
   "version": "3.7.3"
  }
 },
 "nbformat": 4,
 "nbformat_minor": 2
}
