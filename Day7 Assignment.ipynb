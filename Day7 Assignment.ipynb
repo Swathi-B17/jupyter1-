{
 "cells": [
  {
   "cell_type": "markdown",
   "metadata": {},
   "source": [
    "1. Write a Python program to convert a given  list to a tuple. [5, 10, 7, 4, 15, 3] "
   ]
  },
  {
   "cell_type": "code",
   "execution_count": 4,
   "metadata": {},
   "outputs": [
    {
     "data": {
      "text/plain": [
       "(5, 10, 7, 4, 15, 3)"
      ]
     },
     "execution_count": 4,
     "metadata": {},
     "output_type": "execute_result"
    }
   ],
   "source": [
    "t1=(5,10,7,4,15,3)\n",
    "t1"
   ]
  },
  {
   "cell_type": "markdown",
   "metadata": {},
   "source": [
    "2. Write a Python program to get the 4th element from first  and 4th element from last of a tuple. \n",
    "( \"p\" , \"y\" , \"t\", \"h\" , \"o\" , \"n\" , \"p\" , \"r\" , \"o\" , \"g\" , \"r\" , \"a\" , \"m\" , \"m\" , \"i\" , \"n\" , \"g\" )"
   ]
  },
  {
   "cell_type": "code",
   "execution_count": 9,
   "metadata": {},
   "outputs": [
    {
     "data": {
      "text/plain": [
       "'h'"
      ]
     },
     "execution_count": 9,
     "metadata": {},
     "output_type": "execute_result"
    }
   ],
   "source": [
    "t1=( \"p\" , \"y\" , \"t\", \"h\" , \"o\" , \"n\" , \"p\" , \"r\" , \"o\" , \"g\" , \"r\" , \"a\" , \"m\" , \"m\" , \"i\" , \"n\" , \"g\" )\n",
    "t1[3]\n"
   ]
  },
  {
   "cell_type": "code",
   "execution_count": 10,
   "metadata": {},
   "outputs": [
    {
     "data": {
      "text/plain": [
       "'m'"
      ]
     },
     "execution_count": 10,
     "metadata": {},
     "output_type": "execute_result"
    }
   ],
   "source": [
    "t1=( \"p\" , \"y\" , \"t\", \"h\" , \"o\" , \"n\" , \"p\" , \"r\" , \"o\" , \"g\" , \"r\" , \"a\" , \"m\" , \"m\" , \"i\" , \"n\" , \"g\" )\n",
    "t1[-4]"
   ]
  },
  {
   "cell_type": "markdown",
   "metadata": {},
   "source": [
    "3. Write a python program to find largest number in a given list with out using max() .[10, 7 , 0 ,14 , 4 , 2 ]"
   ]
  },
  {
   "cell_type": "code",
   "execution_count": 19,
   "metadata": {},
   "outputs": [
    {
     "data": {
      "text/plain": [
       "14"
      ]
     },
     "execution_count": 19,
     "metadata": {},
     "output_type": "execute_result"
    }
   ],
   "source": [
    "li=(10, 7 , 0 ,14 , 4 , 2) \n",
    "def maxElementDS(ds):\n",
    "    m=0\n",
    "    for item in ds:\n",
    "        if item > m:\n",
    "            m = item\n",
    "    return m\n",
    "maxElementDS(li) "
   ]
  },
  {
   "cell_type": "markdown",
   "metadata": {},
   "source": [
    "4. Write a python program to print all even numbers from a given list .[111 , 4 , 7 , 16 , 27 , 40 , 18 , 99 ,101, 14]"
   ]
  },
  {
   "cell_type": "code",
   "execution_count": 1,
   "metadata": {},
   "outputs": [
    {
     "name": "stdout",
     "output_type": "stream",
     "text": [
      "4\n",
      "16\n",
      "40\n",
      "18\n",
      "14\n"
     ]
    }
   ],
   "source": [
    "lst=[111 , 4 , 7 , 16 , 27 , 40 , 18 , 99 ,101, 14]\n",
    "for i in lst:\n",
    "    if i%2 ==0:\n",
    "        print(i)\n"
   ]
  },
  {
   "cell_type": "markdown",
   "metadata": {},
   "source": [
    "5. Write a Python script to add a key to a dictionary.\n",
    "Sample Dictionary : {0: 10, 1: 20}\n",
    "Expected Result : {0: 10, 1: 20, 2: 30}"
   ]
  },
  {
   "cell_type": "code",
   "execution_count": 2,
   "metadata": {},
   "outputs": [
    {
     "name": "stdout",
     "output_type": "stream",
     "text": [
      "{0: 10, 1: 20, 2: 30}\n"
     ]
    }
   ],
   "source": [
    "# Sample Dictionary:{0:10,1:20}\n",
    "#Expected Result:{0:10,1:20,2:30}\n",
    "n={0:10,1:20}\n",
    "n[2]=30\n",
    "print(n)\n"
   ]
  },
  {
   "cell_type": "markdown",
   "metadata": {},
   "source": [
    "6. Write a Python script to generate and print a dictionary that contains a number (between 1 and n) in the              form (x, x*x) "
   ]
  },
  {
   "cell_type": "code",
   "execution_count": 3,
   "metadata": {},
   "outputs": [
    {
     "name": "stdout",
     "output_type": "stream",
     "text": [
      "Enter a number6\n",
      "{1: 1, 2: 4, 3: 9, 4: 16, 5: 25, 6: 36}\n"
     ]
    }
   ],
   "source": [
    "#Sample Dictionary ( n = 5) : \n",
    "\n",
    "#Expected Output : {1: 1, 2: 4, 3: 9, 4: 16, 5: 25} \n",
    "n=int(input(\"Enter a number\"))\n",
    "d={x:x*x for x in range(1,n+1)}\n",
    "print(d)"
   ]
  },
  {
   "cell_type": "code",
   "execution_count": null,
   "metadata": {},
   "outputs": [],
   "source": []
  }
 ],
 "metadata": {
  "kernelspec": {
   "display_name": "Python 3",
   "language": "python",
   "name": "python3"
  },
  "language_info": {
   "codemirror_mode": {
    "name": "ipython",
    "version": 3
   },
   "file_extension": ".py",
   "mimetype": "text/x-python",
   "name": "python",
   "nbconvert_exporter": "python",
   "pygments_lexer": "ipython3",
   "version": "3.7.3"
  }
 },
 "nbformat": 4,
 "nbformat_minor": 2
}
