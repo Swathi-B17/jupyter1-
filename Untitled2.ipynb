{
 "cells": [
  {
   "cell_type": "code",
   "execution_count": 13,
   "metadata": {},
   "outputs": [
    {
     "name": "stdout",
     "output_type": "stream",
     "text": [
      "-45628"
     ]
    },
    {
     "data": {
      "text/plain": [
       "str"
      ]
     },
     "execution_count": 13,
     "metadata": {},
     "output_type": "execute_result"
    }
   ],
   "source": [
    "n='-kl45628lk'\n",
    "a='-123456789'\n",
    "b=''\n",
    "for i in n:\n",
    "    for j in a:\n",
    "        if i==j:\n",
    "            print(i,end='')\n",
    "            \n",
    "    \n",
    "type(b)"
   ]
  },
  {
   "cell_type": "code",
   "execution_count": 7,
   "metadata": {},
   "outputs": [
    {
     "name": "stdout",
     "output_type": "stream",
     "text": [
      "not poli\n"
     ]
    }
   ],
   "source": [
    "def poli():\n",
    "    n=121\n",
    "    num=n\n",
    "    count=0\n",
    "    while(count > 0):\n",
    "        rem=num % 10;\n",
    "        count=(count*10) + rem;\n",
    "        num = num //10;\n",
    "    if(n == count):\n",
    "        print(count)\n",
    "    else:\n",
    "        print(\"not poli\")\n",
    "poli()"
   ]
  },
  {
   "cell_type": "code",
   "execution_count": 3,
   "metadata": {},
   "outputs": [
    {
     "name": "stdout",
     "output_type": "stream",
     "text": [
      "Please Enter any Number: 1221\n",
      "Reverse of a Given number is = 1221\n",
      "1221 is a Palindrome Number\n"
     ]
    }
   ],
   "source": [
    "number = int(input(\"Please Enter any Number: \"))\n",
    "\n",
    "def poli():\n",
    "    reverse = 0\n",
    "    temp = number\n",
    "\n",
    "    while(temp > 0):\n",
    "        Reminder = temp % 10\n",
    "        reverse = (reverse * 10) + Reminder\n",
    "        temp = temp //10\n",
    "        if(number == reverse):\n",
    "            print(\"%d is a Palindrome Number\" %number)\n",
    "        else:\n",
    "            \n",
    "    "
   ]
  },
  {
   "cell_type": "code",
   "execution_count": null,
   "metadata": {},
   "outputs": [],
   "source": []
  }
 ],
 "metadata": {
  "kernelspec": {
   "display_name": "Python 3",
   "language": "python",
   "name": "python3"
  },
  "language_info": {
   "codemirror_mode": {
    "name": "ipython",
    "version": 3
   },
   "file_extension": ".py",
   "mimetype": "text/x-python",
   "name": "python",
   "nbconvert_exporter": "python",
   "pygments_lexer": "ipython3",
   "version": "3.7.3"
  }
 },
 "nbformat": 4,
 "nbformat_minor": 2
}
