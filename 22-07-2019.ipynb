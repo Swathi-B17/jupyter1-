{
 "cells": [
  {
   "cell_type": "markdown",
   "metadata": {},
   "source": [
    "### Define a function to perform sum of natural numbers"
   ]
  },
  {
   "cell_type": "code",
   "execution_count": 3,
   "metadata": {},
   "outputs": [
    {
     "name": "stdout",
     "output_type": "stream",
     "text": [
      "465\n"
     ]
    },
    {
     "data": {
      "text/plain": [
       "465.0"
      ]
     },
     "execution_count": 3,
     "metadata": {},
     "output_type": "execute_result"
    }
   ],
   "source": [
    "def naturalnum(n) :\n",
    "    n=(n*(n+1)/2)\n",
    "    print(round(n))\n",
    "    return n\n",
    "        \n",
    "naturalnum(30)"
   ]
  },
  {
   "cell_type": "code",
   "execution_count": 39,
   "metadata": {},
   "outputs": [
    {
     "data": {
      "text/plain": [
       "'03'"
      ]
     },
     "execution_count": 39,
     "metadata": {},
     "output_type": "execute_result"
    }
   ],
   "source": [
    "#Using String slicing reverse the middle characters of ur mobile number\n",
    "\n",
    "B = '9515306420'\n",
    "B[5:3:-1]"
   ]
  },
  {
   "cell_type": "code",
   "execution_count": 25,
   "metadata": {},
   "outputs": [
    {
     "name": "stdout",
     "output_type": "stream",
     "text": [
      "1634 is armstrong\n"
     ]
    }
   ],
   "source": [
    "#Define a function to print Armstrong number\n",
    "def arm(num):\n",
    "    count=0\n",
    "\n",
    "    n=num\n",
    "    \n",
    "          \n",
    "    while(n>0):\n",
    "        rem=n%10\n",
    "        count=count+rem**len(str(num))\n",
    "        n=n//10\n",
    "    if(num==count):\n",
    "        print(num,\"is armstrong\")\n",
    "    else:\n",
    "        print(num,\"is not armstrong\")\n",
    "arm(1634)  \n",
    "\n",
    "\n"
   ]
  },
  {
   "cell_type": "code",
   "execution_count": null,
   "metadata": {},
   "outputs": [],
   "source": []
  }
 ],
 "metadata": {
  "kernelspec": {
   "display_name": "Python 3",
   "language": "python",
   "name": "python3"
  },
  "language_info": {
   "codemirror_mode": {
    "name": "ipython",
    "version": 3
   },
   "file_extension": ".py",
   "mimetype": "text/x-python",
   "name": "python",
   "nbconvert_exporter": "python",
   "pygments_lexer": "ipython3",
   "version": "3.7.3"
  }
 },
 "nbformat": 4,
 "nbformat_minor": 2
}
